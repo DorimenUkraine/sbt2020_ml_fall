{
 "cells": [
  {
   "cell_type": "markdown",
   "metadata": {},
   "source": [
    "# Классы в Python"
   ]
  },
  {
   "cell_type": "code",
   "execution_count": 1,
   "metadata": {},
   "outputs": [
    {
     "name": "stdout",
     "output_type": "stream",
     "text": [
      "Foo\n",
      "1 2\n",
      "123\n"
     ]
    }
   ],
   "source": [
    "class Foo(object):\n",
    "    def __init__(self, x=1, y=2):\n",
    "        self.x = x\n",
    "        self.y = y\n",
    "        print(\"Foo\")\n",
    "    \n",
    "    def __my_method(self, z):\n",
    "        print(z)\n",
    "        \n",
    "    def f(self, z):\n",
    "        self.__my_method(z)\n",
    "\n",
    "foo = Foo()\n",
    "print(foo.x, foo.y)\n",
    "foo.f(123)"
   ]
  },
  {
   "cell_type": "code",
   "execution_count": 3,
   "metadata": {},
   "outputs": [
    {
     "ename": "AttributeError",
     "evalue": "'Foo' object has no attribute '__my_method'",
     "output_type": "error",
     "traceback": [
      "\u001b[1;31m---------------------------------------------------------------------------\u001b[0m",
      "\u001b[1;31mAttributeError\u001b[0m                            Traceback (most recent call last)",
      "\u001b[1;32m<ipython-input-3-6d896672d6b1>\u001b[0m in \u001b[0;36m<module>\u001b[1;34m\u001b[0m\n\u001b[1;32m----> 1\u001b[1;33m \u001b[0mfoo\u001b[0m\u001b[1;33m.\u001b[0m\u001b[0m__my_method\u001b[0m\u001b[1;33m(\u001b[0m\u001b[1;36m123\u001b[0m\u001b[1;33m)\u001b[0m\u001b[1;33m\u001b[0m\u001b[1;33m\u001b[0m\u001b[0m\n\u001b[0m",
      "\u001b[1;31mAttributeError\u001b[0m: 'Foo' object has no attribute '__my_method'"
     ]
    }
   ],
   "source": [
    "foo.__my_method(123)"
   ]
  },
  {
   "cell_type": "code",
   "execution_count": 4,
   "metadata": {},
   "outputs": [
    {
     "name": "stdout",
     "output_type": "stream",
     "text": [
      "<__main__.Foo object at 0x000001B423DA56A0>\n"
     ]
    }
   ],
   "source": [
    "print(foo)"
   ]
  },
  {
   "cell_type": "code",
   "execution_count": 6,
   "metadata": {},
   "outputs": [
    {
     "name": "stdout",
     "output_type": "stream",
     "text": [
      "<class '__main__.Foo'>\n"
     ]
    }
   ],
   "source": [
    "print(type(foo))"
   ]
  },
  {
   "cell_type": "code",
   "execution_count": 7,
   "metadata": {},
   "outputs": [],
   "source": [
    "class MyLinReg(object):\n",
    "    def __init__(self, C=0.01, regularizer='l2'):\n",
    "        self.C = C\n",
    "        self.regularizer = regularizer\n",
    "        \n",
    "    def fit(self, X, y):\n",
    "        self.w = np.dot(X.T, np.dot( (np.dot(X, X.T)), y ) )\n",
    "        \n",
    "    def predict(self, X):\n",
    "        return X.dot(w)"
   ]
  },
  {
   "cell_type": "markdown",
   "metadata": {},
   "source": [
    "# Декораторы в Python"
   ]
  },
  {
   "cell_type": "code",
   "execution_count": 9,
   "metadata": {},
   "outputs": [],
   "source": [
    "import time\n",
    "\n",
    "\n",
    "def timer(f):\n",
    "    def tmp(*args, **kwargs):\n",
    "        t = time.time()\n",
    "        res = f(*args, **kwargs)\n",
    "        print(\"Время выполнения функции %s: %f\" % (str(f), (time.time()-t)))\n",
    "        return res\n",
    "\n",
    "    return tmp\n",
    "\n",
    "\n",
    "def memoized(f):\n",
    "    memory = {}\n",
    "\n",
    "    def wrapper(*args, **kwargs):\n",
    "        key = (tuple(args), hash(tuple(sorted(kwargs.items()))))\n",
    "        if not key in memory:\n",
    "            memory[key] = f(*args, **kwargs)\n",
    "        return memory[key]\n",
    "    return wrapper"
   ]
  },
  {
   "cell_type": "code",
   "execution_count": 15,
   "metadata": {},
   "outputs": [
    {
     "name": "stdout",
     "output_type": "stream",
     "text": [
      "Время выполнения функции <function memoized.<locals>.wrapper at 0x000001B4266B5A60>: 0.093541\n",
      "Время выполнения функции <function memoized.<locals>.wrapper at 0x000001B4266B5A60>: 0.000000\n",
      "Время выполнения функции <function memoized.<locals>.wrapper at 0x000001B4266B5A60>: 0.000000\n",
      "Время выполнения функции <function memoized.<locals>.wrapper at 0x000001B4266B5A60>: 0.000000\n",
      "Время выполнения функции <function memoized.<locals>.wrapper at 0x000001B4266B5A60>: 0.000000\n",
      "Время выполнения функции <function memoized.<locals>.wrapper at 0x000001B4266B5A60>: 0.000000\n",
      "Время выполнения функции <function memoized.<locals>.wrapper at 0x000001B4266B5A60>: 0.000000\n",
      "Время выполнения функции <function memoized.<locals>.wrapper at 0x000001B4266B5A60>: 0.000000\n",
      "Время выполнения функции <function memoized.<locals>.wrapper at 0x000001B4266B5A60>: 0.000000\n",
      "Время выполнения функции <function memoized.<locals>.wrapper at 0x000001B4266B5A60>: 0.000000\n",
      "Время выполнения функции <function memoized.<locals>.wrapper at 0x000001B4266B5A60>: 0.000000\n",
      "Время выполнения функции <function memoized.<locals>.wrapper at 0x000001B4266B5A60>: 0.000000\n",
      "Время выполнения функции <function memoized.<locals>.wrapper at 0x000001B4266B5A60>: 0.000000\n",
      "Время выполнения функции <function memoized.<locals>.wrapper at 0x000001B4266B5A60>: 0.000000\n",
      "Время выполнения функции <function memoized.<locals>.wrapper at 0x000001B4266B5A60>: 0.000000\n",
      "Время выполнения функции <function memoized.<locals>.wrapper at 0x000001B4266B5A60>: 0.000000\n",
      "Время выполнения функции <function memoized.<locals>.wrapper at 0x000001B4266B5A60>: 0.000992\n",
      "Время выполнения функции <function memoized.<locals>.wrapper at 0x000001B4266B5A60>: 0.000000\n",
      "Время выполнения функции <function memoized.<locals>.wrapper at 0x000001B4266B5A60>: 0.000000\n",
      "Время выполнения функции <function memoized.<locals>.wrapper at 0x000001B4266B5A60>: 0.000000\n"
     ]
    }
   ],
   "source": [
    "@timer\n",
    "@memoized\n",
    "def sqr(x):\n",
    "    return x ** 190000\n",
    "\n",
    "#sqr = timer(sqr)\n",
    "\n",
    "for k in range(20):\n",
    "    sqr(3 ** 7)"
   ]
  },
  {
   "cell_type": "code",
   "execution_count": 19,
   "metadata": {},
   "outputs": [
    {
     "name": "stdout",
     "output_type": "stream",
     "text": [
      "Foo\n",
      "<property object at 0x000001B4266B0680>\n",
      "1\n"
     ]
    }
   ],
   "source": [
    "class Foo:\n",
    "    def __init__(self):\n",
    "        print(\"Foo\")\n",
    "\n",
    "    @property\n",
    "    def x(self):\n",
    "        return 1\n",
    "    \n",
    "foo = Foo()\n",
    "print(Foo.x)\n",
    "print(foo.x)"
   ]
  },
  {
   "cell_type": "markdown",
   "metadata": {},
   "source": [
    "# Beautiful Soup, urllib и chardet: парсим веб-страницы"
   ]
  },
  {
   "cell_type": "code",
   "execution_count": null,
   "metadata": {},
   "outputs": [],
   "source": [
    "from collections import deque\n",
    "import codecs\n",
    "import os\n",
    "import time\n",
    "import urllib2\n",
    "import chardet\n",
    "\n",
    "site = \"http://simple.wikipedia.org\"\n",
    "\n",
    "def read_url(name):\n",
    "    html = urllib2.urlopen(name).read()\n",
    "    encoding = chardet.detect(html)['encoding']\n",
    "    if encoding != 'unicode':\n",
    "        html = html.decode(encoding)\n",
    "    return html\n",
    "\n",
    "\n",
    "def parse_url(name):\n",
    "    html = read_url(name)\n",
    "    soup = bs4.BeautifulSoup(html)\n",
    "\n",
    "    wiki = \"/wiki/\"\n",
    "\n",
    "    return [x for x in [hit.attrs.get(\"href\",\"\") for hit in soup.findAll('a')] if x[:len(wiki)] == wiki]\n",
    "\n",
    "def save_html(link, link_id, docs_folder):\n",
    "        html = read_url(link)\n",
    "        out_file = codecs.open(os.path.join(docs_folder, str(link_id) + \".html\"), \"w\", \"utf-8\")\n",
    "        print >> out_file, html\n",
    "\n",
    "\n",
    "def crawl(start_link=\"/wiki/Main_Page\"):\n",
    "    queue = deque([start_link])\n",
    "    id_queue = deque([0])\n",
    "\n",
    "    cur_id = 0\n",
    "\n",
    "    visited = dict()\n",
    "\n",
    "    links_id_map = codecs.open(\"link_id_map.txt\", \"w\", \"utf-8\")\n",
    "    graph = codecs.open(\"graph.txt\", \"w\", \"utf-8\")\n",
    "    visited[start_link] = 0\n",
    "\n",
    "    while queue:\n",
    "        link = site + queue.popleft()\n",
    "        print link\n",
    "        link_id = id_queue.popleft()\n",
    "\n",
    "        try:\n",
    "            try:\n",
    "                save_html(link, link_id, \"./docs/\")\n",
    "            except:\n",
    "                time.sleep(60)\n",
    "                save_html(link, link_id, \"./docs/\")\n",
    "\n",
    "            print >> links_id_map, link_id, link\n",
    "\n",
    "\n",
    "            links = parse_url(link)\n",
    "\n",
    "            links_ids = []\n",
    "            for lnk in links:\n",
    "                if lnk in visited.keys():\n",
    "                    links_ids.append(visited[lnk])\n",
    "                else:\n",
    "                    cur_id += 1\n",
    "                    visited[lnk] = cur_id\n",
    "                    queue.append(lnk)\n",
    "                    id_queue.append(cur_id)\n",
    "\n",
    "            print >> graph, str(link_id) + \":\" + \",\".join([str(i) for i in links_ids])\n",
    "        except:\n",
    "            pass"
   ]
  }
 ],
 "metadata": {
  "anaconda-cloud": {},
  "kernelspec": {
   "display_name": "Python 3",
   "language": "python",
   "name": "python3"
  },
  "language_info": {
   "codemirror_mode": {
    "name": "ipython",
    "version": 3
   },
   "file_extension": ".py",
   "mimetype": "text/x-python",
   "name": "python",
   "nbconvert_exporter": "python",
   "pygments_lexer": "ipython3",
   "version": "3.8.3"
  }
 },
 "nbformat": 4,
 "nbformat_minor": 1
}
